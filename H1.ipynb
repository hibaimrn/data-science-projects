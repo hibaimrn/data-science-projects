{
  "nbformat": 4,
  "nbformat_minor": 0,
  "metadata": {
    "colab": {
      "provenance": [],
      "include_colab_link": true
    },
    "kernelspec": {
      "name": "python3",
      "display_name": "Python 3"
    },
    "language_info": {
      "name": "python"
    }
  },
  "cells": [
    {
      "cell_type": "markdown",
      "metadata": {
        "id": "view-in-github",
        "colab_type": "text"
      },
      "source": [
        "<a href=\"https://colab.research.google.com/github/hibaimrn/data-science-projects/blob/main/H1.ipynb\" target=\"_parent\"><img src=\"https://colab.research.google.com/assets/colab-badge.svg\" alt=\"Open In Colab\"/></a>"
      ]
    },
    {
      "cell_type": "code",
      "source": [
        "import pandas as pd\n",
        "from sklearn.model_selection import train_test_split\n",
        "from sklearn.tree import DecisionTreeClassifier\n",
        "from sklearn.metrics import accuracy_score\n",
        "from sklearn import tree\n",
        "import matplotlib.pyplot as plt\n",
        "import pandas as pd\n",
        "from sklearn.model_selection import train_test_split\n",
        "from sklearn.linear_model import LinearRegression\n",
        "from sklearn.metrics import accuracy_score, precision_score, recall_score, f1_score\n",
        "import numpy as np\n",
        "\n",
        "data = {'Height':[6.2, 5.7, 5.4, 6.4, 5.1, 1.2, 1, 6.3, 4.5, 10.11, 5.0], 'Weight':[101, 95, 65, 43, 75, 26, 86, 56, 43, 77, 109], 'Label': ['O', 'O', 'H', 'H', 'H', 'H', 'O', 'H', 'H', 'H', 'O']}\n",
        "df = pd.DataFrame(data)\n",
        "\n",
        "df['Label'] = df['Label'].map({'H': 0, 'O': 1})\n",
        "\n",
        "X = df[['Height', 'Weight']]\n",
        "y = df['Label']\n",
        "\n",
        "X_train, X_test, y_train, y_test = train_test_split(X, y, test_size=0.2, random_state=42)\n",
        "model = DecisionTreeClassifier(random_state=42)\n",
        "model.fit(X_train, y_train)\n",
        "\n",
        "y_pred = model.predict(X_test)\n",
        "accuracy = accuracy_score(y_test, y_pred)\n",
        "print(f'Accuracy: {accuracy * 100:.2f}%')"
      ],
      "metadata": {
        "colab": {
          "base_uri": "https://localhost:8080/"
        },
        "id": "gpqtnMPEhlVU",
        "outputId": "24ee4c26-97d1-4bdd-eb1a-61a08aea3ce6"
      },
      "execution_count": null,
      "outputs": [
        {
          "output_type": "stream",
          "name": "stdout",
          "text": [
            "Accuracy: 100.00%\n"
          ]
        }
      ]
    },
    {
      "cell_type": "code",
      "source": [
        "from sklearn.model_selection import train_test_split\n",
        "from sklearn.linear_model import LinearRegression\n",
        "from sklearn.metrics import precision_score, recall_score, f1_score\n",
        "import numpy as np\n",
        "df3 = pd.read_csv('/content/ds1.csv')\n",
        "df3 = df3.fillna(0)\n",
        "print(df3.columns)\n",
        "\n",
        "X = df3[['YearsExperience']] #the spellings here are wrong first second youre using df you are supposed to use df3\n",
        "y = df3['Salary']\n",
        "\n",
        "X_train, X_test, y_train, y_test = train_test_split(X, y, test_size=0.2, random_state=42)\n",
        "model = LinearRegression()\n",
        "model.fit(X_train, y_train)\n",
        "\n",
        "y_pred = model.predict(X_test)\n",
        "y_pred_binary = [1 if pred >= 0.5 else 0 for pred in y_pred]\n",
        "\n",
        "accuracy = accuracy_score(y_test, y_pred_binary)\n",
        "precision = precision_score(y_test, y_pred_binary,average='micro')\n",
        "recall = recall_score(y_test, y_pred_binary,average='micro')\n",
        "f1 = f1_score(y_test, y_pred_binary,average='micro')\n",
        "\n",
        "print(f\"Accuracy: {accuracy:.2f}\")\n",
        "print(f\"Precision: {precision:.2f}\")\n",
        "print(f\"Recall: {recall:.2f}\")\n",
        "print(f\"F1 Score: {f1:.2f}\")\n",
        "#this code has a little bit of errors i am fixing it in the code block below"
      ],
      "metadata": {
        "colab": {
          "base_uri": "https://localhost:8080/"
        },
        "id": "Px9snLe2vDkV",
        "outputId": "69b2a484-55a1-4aab-b922-c62b604bcbcc"
      },
      "execution_count": null,
      "outputs": [
        {
          "output_type": "stream",
          "name": "stdout",
          "text": [
            "Index(['YearsExperience', 'Salary'], dtype='object')\n",
            "Accuracy: 0.00\n",
            "Precision: 0.00\n",
            "Recall: 0.00\n",
            "F1 Score: 0.00\n"
          ]
        }
      ]
    },
    {
      "cell_type": "code",
      "source": [
        "#You're using classification metrics (precision, recall, F1 score) on a regression model, which is incorrect\n",
        "#because regression predicts continuous values, not categories.\n",
        "\n",
        "\n",
        "#instead of accuracy, f1 score, recall, and precision we calculate following\n",
        "\n",
        "#Mean Absolute Error (MAE)\n",
        "#Mean Squared Error (MSE)\n",
        "#R-squared (R²)\n",
        "\n",
        "#this is how its done:\n",
        "'''\n",
        "Thank You\n",
        "'''\n",
        "\n",
        "from sklearn.metrics import mean_absolute_error, mean_squared_error, r2_score\n",
        "\n",
        "mae = mean_absolute_error(y_test, y_pred)\n",
        "mse = mean_squared_error(y_test, y_pred)\n",
        "r2 = r2_score(y_test, y_pred)"
      ],
      "metadata": {
        "id": "DaHLrWF8xcoy"
      },
      "execution_count": null,
      "outputs": []
    },
    {
      "cell_type": "code",
      "source": [
        "print(f\"Mean Absolute Error: {mae:.2f}\")\n",
        "print(f\"Mean Squared Error: {mse:.2f}\")\n",
        "print(f\"R-squared: {r2:.2f}\")"
      ],
      "metadata": {
        "colab": {
          "base_uri": "https://localhost:8080/"
        },
        "id": "UE6du0MF2-J9",
        "outputId": "2e5f0d18-a432-44bd-90df-b27b47555b07"
      },
      "execution_count": null,
      "outputs": [
        {
          "output_type": "stream",
          "name": "stdout",
          "text": [
            "Mean Absolute Error: 67632.50\n",
            "Mean Squared Error: 5868933009.29\n",
            "R-squared: -2.09\n"
          ]
        }
      ]
    }
  ]
}